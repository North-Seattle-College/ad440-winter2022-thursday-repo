{
 "cells": [
  {
   "cell_type": "code",
   "execution_count": 1,
   "id": "688188b6",
   "metadata": {},
   "outputs": [
    {
     "name": "stdout",
     "output_type": "stream",
     "text": [
      "Requirement already satisfied: KModes in /home/ec2-user/anaconda3/envs/python3/lib/python3.6/site-packages (0.11.1)\n",
      "Requirement already satisfied: scikit-learn>=0.22.0 in /home/ec2-user/anaconda3/envs/python3/lib/python3.6/site-packages (from KModes) (0.24.1)\n",
      "Requirement already satisfied: numpy>=1.10.4 in /home/ec2-user/anaconda3/envs/python3/lib/python3.6/site-packages (from KModes) (1.19.5)\n",
      "Requirement already satisfied: joblib>=0.11 in /home/ec2-user/anaconda3/envs/python3/lib/python3.6/site-packages (from KModes) (1.0.1)\n",
      "Requirement already satisfied: scipy>=0.13.3 in /home/ec2-user/anaconda3/envs/python3/lib/python3.6/site-packages (from KModes) (1.5.3)\n",
      "Requirement already satisfied: threadpoolctl>=2.0.0 in /home/ec2-user/anaconda3/envs/python3/lib/python3.6/site-packages (from scikit-learn>=0.22.0->KModes) (2.1.0)\n",
      "Note: you may need to restart the kernel to use updated packages.\n"
     ]
    }
   ],
   "source": [
    "import boto3\n",
    "import json\n",
    "import matplotlib.pyplot as plt\n",
    "import pandas as pd\n",
    "import plotly.express as px\n",
    "import plotly.graph_objects as go\n",
    "import numpy as np\n",
    "from sklearn.cluster import KMeans\n",
    "from sklearn.preprocessing import MinMaxScaler\n",
    "%pip install KModes\n",
    "from kmodes.kmodes import KModes"
   ]
  },
  {
   "cell_type": "code",
   "execution_count": 2,
   "id": "d3dc7894",
   "metadata": {},
   "outputs": [],
   "source": [
    "from sagemaker import get_execution_role\n",
    "import sagemaker\n",
    "sagemaker_session = sagemaker.Session()\n",
    "role = get_execution_role()\n",
    "\n",
    "#conn = boto3.client('s3')\n",
    "#contents = conn.list_objects(Bucket='ad440-mpg-floop-export-storage')['Contents']\n",
    "#for f in contents:\n",
    "#    print(f['Key'])"
   ]
  },
  {
   "cell_type": "code",
   "execution_count": 3,
   "id": "f9467ea4",
   "metadata": {},
   "outputs": [],
   "source": [
    "# Initiate s3 connection to desired bucket and desired object filename.\n",
    "s3 = boto3.resource('s3')\n",
    "\n",
    "obj = s3.Object('ad440-mpg-floop-export-storage',\n",
    "                'enriched-conv-1k-2-sagemaker.json')\n",
    "\n",
    "# Loads body of json from the s3 object\n",
    "data = json.load(obj.get()['Body'])\n",
    "path = 's3://ad440-mpg-floop-export-storage/enriched-conv-1k-2-sagemaker.json'\n"
   ]
  },
  {
   "cell_type": "code",
   "execution_count": 4,
   "id": "81bf33cb",
   "metadata": {},
   "outputs": [
    {
     "name": "stdout",
     "output_type": "stream",
     "text": [
      "[['sentence', 'neutral', 'hard to read'], ['Unknown', 'neutral', 'hard to read'], ['sentence', 'neutral', 'hard to read']]\n"
     ]
    }
   ],
   "source": [
    "# Create array of metadata elements\n",
    "attrArray = []\n",
    "for thread in data:\n",
    "    for convItem in thread:\n",
    "        attrArray.append(convItem['metadata'])\n",
    "        \n",
    "# Show sample of created attrArray        \n",
    "print(attrArray[0:3])"
   ]
  },
  {
   "cell_type": "code",
   "execution_count": 5,
   "id": "68d8b54d",
   "metadata": {},
   "outputs": [
    {
     "name": "stdout",
     "output_type": "stream",
     "text": [
      "[{'type': 'sentence', 'sentiment': 'neutral', 'emotion': 'hard to read'}, {'type': 'Unknown', 'sentiment': 'neutral', 'emotion': 'hard to read'}, {'type': 'sentence', 'sentiment': 'neutral', 'emotion': 'hard to read'}]\n",
      "<class 'pandas.core.frame.DataFrame'>\n",
      "RangeIndex: 1099 entries, 0 to 1098\n",
      "Data columns (total 3 columns):\n",
      " #   Column     Non-Null Count  Dtype \n",
      "---  ------     --------------  ----- \n",
      " 0   type       1099 non-null   object\n",
      " 1   sentiment  1099 non-null   object\n",
      " 2   emotion    1099 non-null   object\n",
      "dtypes: object(3)\n",
      "memory usage: 25.9+ KB\n"
     ]
    }
   ],
   "source": [
    "# Create dictionary from attrArray and convert dictionary to a DataFrame\n",
    "convProp = [{\"type\": str(item[0]), \"sentiment\": str(\n",
    "    item[1]), \"emotion\": str(item[2])} for item in attrArray]\n",
    "df = pd.DataFrame(convProp)\n",
    "\n",
    "# Show sample of created Dictionary elements from attrArray\n",
    "print(convProp[0:3])\n",
    "\n",
    "# Display the DataFrame properties \n",
    "df.info()"
   ]
  },
  {
   "cell_type": "code",
   "execution_count": 6,
   "id": "42dd46f2",
   "metadata": {},
   "outputs": [
    {
     "name": "stdout",
     "output_type": "stream",
     "text": [
      "Init: initializing centroids\n",
      "Init: initializing clusters\n",
      "Starting iterations...\n",
      "Run 1, iteration: 1/100, moves: 0, cost: 743.0\n",
      "Init: initializing centroids\n",
      "Init: initializing clusters\n",
      "Starting iterations...\n",
      "Run 2, iteration: 1/100, moves: 0, cost: 743.0\n",
      "Init: initializing centroids\n",
      "Init: initializing clusters\n",
      "Starting iterations...\n",
      "Run 3, iteration: 1/100, moves: 0, cost: 743.0\n",
      "Init: initializing centroids\n",
      "Init: initializing clusters\n",
      "Starting iterations...\n",
      "Run 4, iteration: 1/100, moves: 0, cost: 743.0\n",
      "Init: initializing centroids\n",
      "Init: initializing clusters\n",
      "Starting iterations...\n",
      "Run 5, iteration: 1/100, moves: 0, cost: 743.0\n",
      "Best run was number 1\n",
      "Init: initializing centroids\n",
      "Init: initializing clusters\n",
      "Starting iterations...\n",
      "Run 1, iteration: 1/100, moves: 273, cost: 470.0\n",
      "Init: initializing centroids\n",
      "Init: initializing clusters\n",
      "Starting iterations...\n",
      "Run 2, iteration: 1/100, moves: 0, cost: 686.0\n",
      "Init: initializing centroids\n",
      "Init: initializing clusters\n",
      "Starting iterations...\n",
      "Run 3, iteration: 1/100, moves: 0, cost: 743.0\n",
      "Init: initializing centroids\n",
      "Init: initializing clusters\n",
      "Starting iterations...\n",
      "Run 4, iteration: 1/100, moves: 118, cost: 625.0\n",
      "Init: initializing centroids\n",
      "Init: initializing clusters\n",
      "Starting iterations...\n",
      "Run 5, iteration: 1/100, moves: 0, cost: 743.0\n",
      "Best run was number 1\n",
      "Init: initializing centroids\n",
      "Init: initializing clusters\n",
      "Starting iterations...\n",
      "Run 1, iteration: 1/100, moves: 82, cost: 647.0\n",
      "Init: initializing centroids\n",
      "Init: initializing clusters\n",
      "Starting iterations...\n",
      "Run 2, iteration: 1/100, moves: 0, cost: 625.0\n",
      "Init: initializing centroids\n",
      "Init: initializing clusters\n",
      "Starting iterations...\n",
      "Run 3, iteration: 1/100, moves: 54, cost: 377.0\n",
      "Run 3, iteration: 2/100, moves: 1, cost: 377.0\n",
      "Init: initializing centroids\n",
      "Init: initializing clusters\n",
      "Starting iterations...\n",
      "Run 4, iteration: 1/100, moves: 88, cost: 505.0\n",
      "Init: initializing centroids\n",
      "Init: initializing clusters\n",
      "Starting iterations...\n",
      "Run 5, iteration: 1/100, moves: 0, cost: 734.0\n",
      "Best run was number 3\n",
      "Init: initializing centroids\n",
      "Init: initializing clusters\n",
      "Starting iterations...\n",
      "Run 1, iteration: 1/100, moves: 0, cost: 505.0\n",
      "Init: initializing centroids\n",
      "Init: initializing clusters\n",
      "Starting iterations...\n",
      "Run 2, iteration: 1/100, moves: 56, cost: 631.0\n",
      "Init: initializing centroids\n",
      "Init: initializing clusters\n",
      "Starting iterations...\n",
      "Run 3, iteration: 1/100, moves: 0, cost: 738.0\n",
      "Init: initializing centroids\n",
      "Init: initializing clusters\n",
      "Starting iterations...\n",
      "Run 4, iteration: 1/100, moves: 104, cost: 639.0\n",
      "Init: initializing centroids\n",
      "Init: initializing clusters\n",
      "Starting iterations...\n",
      "Run 5, iteration: 1/100, moves: 13, cost: 631.0\n",
      "Run 5, iteration: 2/100, moves: 2, cost: 631.0\n",
      "Best run was number 1\n"
     ]
    },
    {
     "data": {
      "image/png": "[encoded data removed]",
      "text/plain": [
       "<Figure size 432x288 with 1 Axes>"
      ]
     },
     "metadata": {
      "needs_background": "light"
     },
     "output_type": "display_data"
    }
   ],
   "source": [
    "# Elbow curve to find optimal K for Clustering\n",
    "cost = []\n",
    "K = range(1, 5)\n",
    "for num_clusters in list(K):\n",
    "    kmode = KModes(n_clusters=num_clusters, init=\"random\", n_init=5, verbose=1)\n",
    "    kmode.fit_predict(df)\n",
    "    cost.append(kmode.cost_)\n",
    "\n",
    "# Display Results in graph to get 'elbow' visual\n",
    "plt.plot(K, cost, 'bx-')\n",
    "plt.xlabel('No. of clusters')\n",
    "plt.ylabel('Cost')\n",
    "plt.title('Elbow Method For Optimal k')\n",
    "plt.show()"
   ]
  },
  {
   "cell_type": "code",
   "execution_count": 7,
   "id": "dfe0951c",
   "metadata": {},
   "outputs": [
    {
     "name": "stdout",
     "output_type": "stream",
     "text": [
      "Init: initializing centroids\n",
      "Init: initializing clusters\n",
      "Starting iterations...\n",
      "Run 1, iteration: 1/100, moves: 55, cost: 377.0\n",
      "Init: initializing centroids\n",
      "Init: initializing clusters\n",
      "Starting iterations...\n",
      "Run 2, iteration: 1/100, moves: 85, cost: 639.0\n",
      "Init: initializing centroids\n",
      "Init: initializing clusters\n",
      "Starting iterations...\n",
      "Run 3, iteration: 1/100, moves: 85, cost: 361.0\n",
      "Init: initializing centroids\n",
      "Init: initializing clusters\n",
      "Starting iterations...\n",
      "Run 4, iteration: 1/100, moves: 193, cost: 470.0\n",
      "Init: initializing centroids\n",
      "Init: initializing clusters\n",
      "Starting iterations...\n",
      "Run 5, iteration: 1/100, moves: 0, cost: 361.0\n",
      "Best run was number 3\n"
     ]
    },
    {
     "data": {
      "text/plain": [
       "array([1, 2, 1, ..., 1, 1, 2], dtype=uint16)"
      ]
     },
     "execution_count": 7,
     "metadata": {},
     "output_type": "execute_result"
    }
   ],
   "source": [
    "# Building the KModes model wusing the optimal 3 clusters\n",
    "kmode = KModes(n_clusters=3, init=\"random\", n_init=5, verbose=1)\n",
    "clusters = kmode.fit_predict(df)\n",
    "clusters"
   ]
  },
  {
   "cell_type": "code",
   "execution_count": 8,
   "id": "ccd77214",
   "metadata": {},
   "outputs": [
    {
     "name": "stdout",
     "output_type": "stream",
     "text": [
      "<class 'pandas.core.frame.DataFrame'>\n",
      "RangeIndex: 1099 entries, 0 to 1098\n",
      "Data columns (total 4 columns):\n",
      " #   Column     Non-Null Count  Dtype \n",
      "---  ------     --------------  ----- \n",
      " 0   Cluster    1099 non-null   uint16\n",
      " 1   type       1099 non-null   object\n",
      " 2   sentiment  1099 non-null   object\n",
      " 3   emotion    1099 non-null   object\n",
      "dtypes: object(3), uint16(1)\n",
      "memory usage: 28.0+ KB\n"
     ]
    },
    {
     "data": {
      "text/html": [
       "<div>\n",
       "<style scoped>\n",
       "    .dataframe tbody tr th:only-of-type {\n",
       "        vertical-align: middle;\n",
       "    }\n",
       "\n",
       "    .dataframe tbody tr th {\n",
       "        vertical-align: top;\n",
       "    }\n",
       "\n",
       "    .dataframe thead th {\n",
       "        text-align: right;\n",
       "    }\n",
       "</style>\n",
       "<table border=\"1\" class=\"dataframe\">\n",
       "  <thead>\n",
       "    <tr style=\"text-align: right;\">\n",
       "      <th></th>\n",
       "      <th>Cluster</th>\n",
       "      <th>type</th>\n",
       "      <th>sentiment</th>\n",
       "      <th>emotion</th>\n",
       "    </tr>\n",
       "  </thead>\n",
       "  <tbody>\n",
       "    <tr>\n",
       "      <th>0</th>\n",
       "      <td>1</td>\n",
       "      <td>sentence</td>\n",
       "      <td>neutral</td>\n",
       "      <td>hard to read</td>\n",
       "    </tr>\n",
       "    <tr>\n",
       "      <th>1</th>\n",
       "      <td>2</td>\n",
       "      <td>Unknown</td>\n",
       "      <td>neutral</td>\n",
       "      <td>hard to read</td>\n",
       "    </tr>\n",
       "    <tr>\n",
       "      <th>2</th>\n",
       "      <td>1</td>\n",
       "      <td>sentence</td>\n",
       "      <td>neutral</td>\n",
       "      <td>hard to read</td>\n",
       "    </tr>\n",
       "    <tr>\n",
       "      <th>3</th>\n",
       "      <td>1</td>\n",
       "      <td>sentence</td>\n",
       "      <td>neutral</td>\n",
       "      <td>hard to read</td>\n",
       "    </tr>\n",
       "    <tr>\n",
       "      <th>4</th>\n",
       "      <td>2</td>\n",
       "      <td>Unknown</td>\n",
       "      <td>neutral</td>\n",
       "      <td>hard to read</td>\n",
       "    </tr>\n",
       "    <tr>\n",
       "      <th>...</th>\n",
       "      <td>...</td>\n",
       "      <td>...</td>\n",
       "      <td>...</td>\n",
       "      <td>...</td>\n",
       "    </tr>\n",
       "    <tr>\n",
       "      <th>1094</th>\n",
       "      <td>0</td>\n",
       "      <td>sentence</td>\n",
       "      <td>positive</td>\n",
       "      <td>hard to read</td>\n",
       "    </tr>\n",
       "    <tr>\n",
       "      <th>1095</th>\n",
       "      <td>2</td>\n",
       "      <td>Unknown</td>\n",
       "      <td>neutral</td>\n",
       "      <td>hard to read</td>\n",
       "    </tr>\n",
       "    <tr>\n",
       "      <th>1096</th>\n",
       "      <td>1</td>\n",
       "      <td>sentence</td>\n",
       "      <td>neutral</td>\n",
       "      <td>hard to read</td>\n",
       "    </tr>\n",
       "    <tr>\n",
       "      <th>1097</th>\n",
       "      <td>1</td>\n",
       "      <td>sentence</td>\n",
       "      <td>neutral</td>\n",
       "      <td>hard to read</td>\n",
       "    </tr>\n",
       "    <tr>\n",
       "      <th>1098</th>\n",
       "      <td>2</td>\n",
       "      <td>Unknown</td>\n",
       "      <td>neutral</td>\n",
       "      <td>hard to read</td>\n",
       "    </tr>\n",
       "  </tbody>\n",
       "</table>\n",
       "<p>1099 rows × 4 columns</p>\n",
       "</div>"
      ],
      "text/plain": [
       "      Cluster      type sentiment       emotion\n",
       "0           1  sentence   neutral  hard to read\n",
       "1           2   Unknown   neutral  hard to read\n",
       "2           1  sentence   neutral  hard to read\n",
       "3           1  sentence   neutral  hard to read\n",
       "4           2   Unknown   neutral  hard to read\n",
       "...       ...       ...       ...           ...\n",
       "1094        0  sentence  positive  hard to read\n",
       "1095        2   Unknown   neutral  hard to read\n",
       "1096        1  sentence   neutral  hard to read\n",
       "1097        1  sentence   neutral  hard to read\n",
       "1098        2   Unknown   neutral  hard to read\n",
       "\n",
       "[1099 rows x 4 columns]"
      ]
     },
     "execution_count": 8,
     "metadata": {},
     "output_type": "execute_result"
    }
   ],
   "source": [
    "# insert cluster information into the DataFrame, and show Clustering result info\n",
    "df.insert(0, \"Cluster\", clusters, True)\n",
    "df.info()\n",
    "df"
   ]
  },
  {
   "cell_type": "code",
   "execution_count": 9,
   "id": "182eea91",
   "metadata": {},
   "outputs": [
    {
     "name": "stdout",
     "output_type": "stream",
     "text": [
      "Cluster Counts:\n",
      "1    629\n",
      "2    250\n",
      "0    220\n",
      "Name: Cluster, dtype: int64\n"
     ]
    }
   ],
   "source": [
    "# Show cluster size counts\n",
    "print(f'Cluster Counts:\\n{df[\"Cluster\"].value_counts()}')"
   ]
  },
  {
   "cell_type": "code",
   "execution_count": 10,
   "id": "6e85886f",
   "metadata": {},
   "outputs": [
    {
     "data": {
      "text/plain": [
       "<AxesSubplot:title={'center':'Cluster Size results'}, xlabel='Cluster Number', ylabel='Property Sets'>"
      ]
     },
     "execution_count": 10,
     "metadata": {},
     "output_type": "execute_result"
    },
    {
     "data": {
      "image/png": "[encoded data removed]",
      "text/plain": [
       "<Figure size 432x288 with 1 Axes>"
      ]
     },
     "metadata": {
      "needs_background": "light"
     },
     "output_type": "display_data"
    }
   ],
   "source": [
    "# Bar graph showing relative sizes of each Cluster\n",
    "\n",
    "plots = df['Cluster'].value_counts().plot.bar(rot=0)\n",
    "for bar in plots.patches: \n",
    "  # Using Matplotlib's annotate function and\n",
    "  # passing the coordinates where the annotation shall be done\n",
    "  # x-coordinate: bar.get_x() + bar.get_width() / 2\n",
    "  # y-coordinate: bar.get_height()\n",
    "  # free space to be left to make graph pleasing: (0, 5)\n",
    "  # ha and va stand for the horizontal and vertical alignment\n",
    "    plots.annotate(format(bar.get_height(), '.0f'),\n",
    "                   (bar.get_x() + bar.get_width() / 2,\n",
    "                    bar.get_height()), ha='center', va='center',\n",
    "                   size=10, xytext=(0, 5),\n",
    "                   textcoords='offset points')\n",
    "plt.title(\"Cluster Size results\")\n",
    "plt.xlabel(\"Cluster Number\")\n",
    "plt.ylabel(\"Property Sets\")\n",
    "plots"
   ]
  },
  {
   "cell_type": "code",
   "execution_count": 11,
   "id": "597d5fd2",
   "metadata": {},
   "outputs": [
    {
     "data": {
      "text/html": [
       "<div>\n",
       "<style scoped>\n",
       "    .dataframe tbody tr th:only-of-type {\n",
       "        vertical-align: middle;\n",
       "    }\n",
       "\n",
       "    .dataframe tbody tr th {\n",
       "        vertical-align: top;\n",
       "    }\n",
       "\n",
       "    .dataframe thead th {\n",
       "        text-align: right;\n",
       "    }\n",
       "</style>\n",
       "<table border=\"1\" class=\"dataframe\">\n",
       "  <thead>\n",
       "    <tr style=\"text-align: right;\">\n",
       "      <th></th>\n",
       "      <th>type</th>\n",
       "      <th>sentiment</th>\n",
       "      <th>emotion</th>\n",
       "    </tr>\n",
       "  </thead>\n",
       "  <tbody>\n",
       "    <tr>\n",
       "      <th>First Cluster</th>\n",
       "      <td>sentence</td>\n",
       "      <td>positive</td>\n",
       "      <td>hard to read</td>\n",
       "    </tr>\n",
       "    <tr>\n",
       "      <th>Second Cluster</th>\n",
       "      <td>sentence</td>\n",
       "      <td>neutral</td>\n",
       "      <td>hard to read</td>\n",
       "    </tr>\n",
       "    <tr>\n",
       "      <th>Third Cluster</th>\n",
       "      <td>Unknown</td>\n",
       "      <td>neutral</td>\n",
       "      <td>hard to read</td>\n",
       "    </tr>\n",
       "  </tbody>\n",
       "</table>\n",
       "</div>"
      ],
      "text/plain": [
       "                    type sentiment       emotion\n",
       "First Cluster   sentence  positive  hard to read\n",
       "Second Cluster  sentence   neutral  hard to read\n",
       "Third Cluster    Unknown   neutral  hard to read"
      ]
     },
     "execution_count": 11,
     "metadata": {},
     "output_type": "execute_result"
    }
   ],
   "source": [
    "# Show overall \"leader\" definitions for each Cluster\n",
    "list_col = ['Cluster']\n",
    "cols = [col for col in df if col not in list_col]\n",
    "index = ['First Cluster', 'Second Cluster', 'Third Cluster']\n",
    "df_mod = pd.DataFrame(kmode.cluster_centroids_, columns=cols, index=index)\n",
    "df_mod"
   ]
  },
  {
   "cell_type": "code",
   "execution_count": null,
   "id": "c9ebd575",
   "metadata": {},
   "outputs": [],
   "source": []
  }
 ],
 "metadata": {
  "kernelspec": {
   "display_name": "conda_python3",
   "language": "python",
   "name": "conda_python3"
  },
  "language_info": {
   "codemirror_mode": {
    "name": "ipython",
    "version": 3
   },
   "file_extension": ".py",
   "mimetype": "text/x-python",
   "name": "python",
   "nbconvert_exporter": "python",
   "pygments_lexer": "ipython3",
   "version": "3.6.13"
  }
 },
 "nbformat": 4,
 "nbformat_minor": 5
}
