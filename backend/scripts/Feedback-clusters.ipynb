{
 "cells": [
  {
   "cell_type": "code",
   "execution_count": 4,
   "id": "8f57f490",
   "metadata": {},
   "outputs": [
    {
     "name": "stdout",
     "output_type": "stream",
     "text": [
      "Requirement already satisfied: KModes in /home/ec2-user/anaconda3/envs/python3/lib/python3.6/site-packages (0.11.1)\n",
      "Requirement already satisfied: scikit-learn>=0.22.0 in /home/ec2-user/anaconda3/envs/python3/lib/python3.6/site-packages (from KModes) (0.24.1)\n",
      "Requirement already satisfied: joblib>=0.11 in /home/ec2-user/anaconda3/envs/python3/lib/python3.6/site-packages (from KModes) (1.0.1)\n",
      "Requirement already satisfied: scipy>=0.13.3 in /home/ec2-user/anaconda3/envs/python3/lib/python3.6/site-packages (from KModes) (1.5.3)\n",
      "Requirement already satisfied: numpy>=1.10.4 in /home/ec2-user/anaconda3/envs/python3/lib/python3.6/site-packages (from KModes) (1.19.5)\n",
      "Requirement already satisfied: threadpoolctl>=2.0.0 in /home/ec2-user/anaconda3/envs/python3/lib/python3.6/site-packages (from scikit-learn>=0.22.0->KModes) (2.1.0)\n",
      "Note: you may need to restart the kernel to use updated packages.\n"
     ]
    }
   ],
   "source": [
    "import boto3\n",
    "import json\n",
    "import matplotlib.pyplot as plt\n",
    "import pandas as pd\n",
    "import plotly.express as px\n",
    "import plotly.graph_objects as go\n",
    "import numpy as np\n",
    "from sklearn.cluster import KMeans\n",
    "from sklearn.preprocessing import MinMaxScaler\n",
    "%pip install KModes\n",
    "from kmodes.kmodes import KModes"
   ]
  },
  {
   "cell_type": "code",
   "execution_count": 5,
   "id": "569b1261",
   "metadata": {},
   "outputs": [
    {
     "name": "stdout",
     "output_type": "stream",
     "text": [
      "auto-floop-s3-export3.json\n",
      "enriched-conv-1k-sagemaker.json\n",
      "enriched-conv-1k.json\n",
      "enriched-conv-sample.json\n"
     ]
    }
   ],
   "source": [
    "from sagemaker import get_execution_role\n",
    "import sagemaker\n",
    "sagemaker_session = sagemaker.Session()\n",
    "role = get_execution_role()\n",
    "\n",
    "conn = boto3.client('s3')\n",
    "contents = conn.list_objects(Bucket='ad440-mpg-floop-export-storage')['Contents']\n",
    "for f in contents:\n",
    "    print(f['Key'])"
   ]
  },
  {
   "cell_type": "code",
   "execution_count": 3,
   "id": "d6b13e4c",
   "metadata": {},
   "outputs": [],
   "source": [
    "dataset = conn.get_object(Bucket = 'ad440-mpg-floop-export-storage', Key = 'enriched-conv-1k-sagemaker.json')['Body'].read()\n",
    "data = pd.read_json(dataset)"
   ]
  },
  {
   "cell_type": "code",
   "execution_count": 6,
   "id": "78aa12ae",
   "metadata": {},
   "outputs": [],
   "source": [
    "# Initiate s3 connection to desired bucket and desired object filename.\n",
    "s3 = boto3.resource('s3')\n",
    "\n",
    "obj = s3.Object('ad440-mpg-floop-export-storage',\n",
    "                'enriched-conv-1k-sagemaker.json')\n",
    "\n",
    "# Loads body of json from the s3 object\n",
    "# global data\n",
    "data = json.load(obj.get()['Body'])\n",
    "path = 's3://ad440-mpg-floop-export-storage/enriched-conv-1k-sagemaker.json'\n",
    "# data = pd.read_json(obj).values.tolist()"
   ]
  },
  {
   "cell_type": "code",
   "execution_count": 7,
   "id": "a6211fa7",
   "metadata": {},
   "outputs": [
    {
     "name": "stdout",
     "output_type": "stream",
     "text": [
      "[{'Text': 'Eleborate and Write conclusion   3marks', 'uid': 'T', 'metadata': ['statement', 'neutral', 'hard to read']}]\n"
     ]
    }
   ],
   "source": [
    "print(data[0])\n"
   ]
  },
  {
   "cell_type": "code",
   "execution_count": 8,
   "id": "d78c2b57",
   "metadata": {},
   "outputs": [
    {
     "name": "stdout",
     "output_type": "stream",
     "text": [
      "[['statement', 'neutral', 'hard to read'], ['Unknown', 'neutral', 'hard to read'], ['sentence', 'neutral', 'hard to read']]\n"
     ]
    }
   ],
   "source": [
    "attrArray = []\n",
    "for thread in data:\n",
    "    for convItem in thread:\n",
    "        attrArray.append(convItem['metadata'])\n",
    "print(attrArray[0:3])"
   ]
  },
  {
   "cell_type": "code",
   "execution_count": 9,
   "id": "45e45ddd",
   "metadata": {},
   "outputs": [
    {
     "name": "stdout",
     "output_type": "stream",
     "text": [
      "[{'type': 'statement', 'sentiment': 'neutral', 'emotion': 'hard to read'}, {'type': 'Unknown', 'sentiment': 'neutral', 'emotion': 'hard to read'}, {'type': 'sentence', 'sentiment': 'neutral', 'emotion': 'hard to read'}]\n",
      "<class 'pandas.core.frame.DataFrame'>\n",
      "RangeIndex: 1099 entries, 0 to 1098\n",
      "Data columns (total 3 columns):\n",
      " #   Column     Non-Null Count  Dtype \n",
      "---  ------     --------------  ----- \n",
      " 0   type       1099 non-null   object\n",
      " 1   sentiment  1099 non-null   object\n",
      " 2   emotion    1099 non-null   object\n",
      "dtypes: object(3)\n",
      "memory usage: 25.9+ KB\n"
     ]
    }
   ],
   "source": [
    "convProp = [{\"type\": str(item[0]), \"sentiment\": str(\n",
    "    item[1]), \"emotion\": str(item[2])} for item in attrArray]\n",
    "df = pd.DataFrame(convProp)\n",
    "print(convProp[0:3])\n",
    "df.info()"
   ]
  },
  {
   "cell_type": "code",
   "execution_count": 13,
   "id": "ae02fd0d",
   "metadata": {},
   "outputs": [
    {
     "name": "stdout",
     "output_type": "stream",
     "text": [
      "Init: initializing centroids\n",
      "Init: initializing clusters\n",
      "Starting iterations...\n",
      "Run 1, iteration: 1/100, moves: 0, cost: 1724.0\n",
      "Init: initializing centroids\n",
      "Init: initializing clusters\n",
      "Starting iterations...\n",
      "Run 2, iteration: 1/100, moves: 0, cost: 1724.0\n",
      "Init: initializing centroids\n",
      "Init: initializing clusters\n",
      "Starting iterations...\n",
      "Run 3, iteration: 1/100, moves: 0, cost: 1724.0\n",
      "Init: initializing centroids\n",
      "Init: initializing clusters\n",
      "Starting iterations...\n",
      "Run 4, iteration: 1/100, moves: 0, cost: 1724.0\n",
      "Init: initializing centroids\n",
      "Init: initializing clusters\n",
      "Starting iterations...\n",
      "Run 5, iteration: 1/100, moves: 0, cost: 1724.0\n",
      "Best run was number 1\n",
      "Init: initializing centroids\n",
      "Init: initializing clusters\n",
      "Starting iterations...\n",
      "Run 1, iteration: 1/100, moves: 112, cost: 1016.0\n",
      "Init: initializing centroids\n",
      "Init: initializing clusters\n",
      "Starting iterations...\n",
      "Run 2, iteration: 1/100, moves: 119, cost: 1551.0\n",
      "Run 2, iteration: 2/100, moves: 10, cost: 1551.0\n",
      "Init: initializing centroids\n",
      "Init: initializing clusters\n",
      "Starting iterations...\n",
      "Run 3, iteration: 1/100, moves: 207, cost: 1016.0\n",
      "Run 3, iteration: 2/100, moves: 175, cost: 1016.0\n",
      "Init: initializing centroids\n",
      "Init: initializing clusters\n",
      "Starting iterations...\n",
      "Run 4, iteration: 1/100, moves: 78, cost: 1560.0\n",
      "Init: initializing centroids\n",
      "Init: initializing clusters\n",
      "Starting iterations...\n",
      "Run 5, iteration: 1/100, moves: 0, cost: 1724.0\n",
      "Best run was number 1\n",
      "Init: initializing centroids\n",
      "Init: initializing clusters\n",
      "Starting iterations...\n",
      "Run 1, iteration: 1/100, moves: 42, cost: 959.0\n",
      "Run 1, iteration: 2/100, moves: 240, cost: 470.0\n",
      "Run 1, iteration: 3/100, moves: 35, cost: 470.0\n",
      "Init: initializing centroids\n",
      "Init: initializing clusters\n",
      "Starting iterations...\n",
      "Run 2, iteration: 1/100, moves: 78, cost: 1030.0\n",
      "Init: initializing centroids\n",
      "Init: initializing clusters\n",
      "Starting iterations...\n",
      "Run 3, iteration: 1/100, moves: 16, cost: 898.0\n",
      "Init: initializing centroids\n",
      "Init: initializing clusters\n",
      "Starting iterations...\n",
      "Run 4, iteration: 1/100, moves: 106, cost: 1428.0\n",
      "Run 4, iteration: 2/100, moves: 0, cost: 1428.0\n",
      "Init: initializing centroids\n",
      "Init: initializing clusters\n",
      "Starting iterations...\n",
      "Run 5, iteration: 1/100, moves: 169, cost: 470.0\n",
      "Best run was number 1\n",
      "Init: initializing centroids\n",
      "Init: initializing clusters\n",
      "Starting iterations...\n",
      "Run 1, iteration: 1/100, moves: 60, cost: 850.0\n",
      "Init: initializing centroids\n",
      "Init: initializing clusters\n",
      "Starting iterations...\n",
      "Run 2, iteration: 1/100, moves: 0, cost: 470.0\n",
      "Init: initializing centroids\n",
      "Init: initializing clusters\n",
      "Starting iterations...\n",
      "Run 3, iteration: 1/100, moves: 95, cost: 470.0\n",
      "Init: initializing centroids\n",
      "Init: initializing clusters\n",
      "Starting iterations...\n",
      "Run 4, iteration: 1/100, moves: 78, cost: 887.0\n",
      "Run 4, iteration: 2/100, moves: 0, cost: 887.0\n",
      "Init: initializing centroids\n",
      "Init: initializing clusters\n",
      "Starting iterations...\n",
      "Run 5, iteration: 1/100, moves: 0, cost: 470.0\n",
      "Best run was number 2\n"
     ]
    },
    {
     "data": {
      "image/png": "[encoded data removed]",
      "text/plain": [
       "<Figure size 432x288 with 1 Axes>"
      ]
     },
     "metadata": {
      "needs_background": "light"
     },
     "output_type": "display_data"
    }
   ],
   "source": [
    "# Elbow curve to find optimal K\n",
    "cost = []\n",
    "K = range(1, 5)\n",
    "for num_clusters in list(K):\n",
    "    kmode = KModes(n_clusters=num_clusters, init=\"random\", n_init=5, verbose=1)\n",
    "    kmode.fit_predict(df)\n",
    "    cost.append(kmode.cost_)\n",
    "\n",
    "plt.plot(K, cost, 'bx-')\n",
    "plt.xlabel('No. of clusters')\n",
    "plt.ylabel('Cost')\n",
    "plt.title('Elbow Method For Optimal k')\n",
    "plt.show()"
   ]
  },
  {
   "cell_type": "code",
   "execution_count": 10,
   "id": "9b2cee1a",
   "metadata": {},
   "outputs": [
    {
     "name": "stdout",
     "output_type": "stream",
     "text": [
      "Init: initializing centroids\n",
      "Init: initializing clusters\n",
      "Starting iterations...\n",
      "Run 1, iteration: 1/100, moves: 356, cost: 470.0\n",
      "Run 1, iteration: 2/100, moves: 90, cost: 470.0\n",
      "Init: initializing centroids\n",
      "Init: initializing clusters\n",
      "Starting iterations...\n",
      "Run 2, iteration: 1/100, moves: 0, cost: 743.0\n",
      "Init: initializing centroids\n",
      "Init: initializing clusters\n",
      "Starting iterations...\n",
      "Run 3, iteration: 1/100, moves: 352, cost: 470.0\n",
      "Init: initializing centroids\n",
      "Init: initializing clusters\n",
      "Starting iterations...\n",
      "Run 4, iteration: 1/100, moves: 0, cost: 871.0\n",
      "Init: initializing centroids\n",
      "Init: initializing clusters\n",
      "Starting iterations...\n",
      "Run 5, iteration: 1/100, moves: 0, cost: 704.0\n",
      "Best run was number 1\n"
     ]
    },
    {
     "data": {
      "text/plain": [
       "array([0, 2, 1, ..., 1, 1, 2], dtype=uint16)"
      ]
     },
     "execution_count": 10,
     "metadata": {},
     "output_type": "execute_result"
    }
   ],
   "source": [
    "# Building the model with 3 clusters\n",
    "kmode = KModes(n_clusters=3, init=\"random\", n_init=5, verbose=1)\n",
    "clusters = kmode.fit_predict(df)\n",
    "clusters"
   ]
  },
  {
   "cell_type": "code",
   "execution_count": 11,
   "id": "5ef3b6f0",
   "metadata": {},
   "outputs": [
    {
     "name": "stdout",
     "output_type": "stream",
     "text": [
      "<class 'pandas.core.frame.DataFrame'>\n",
      "RangeIndex: 1099 entries, 0 to 1098\n",
      "Data columns (total 4 columns):\n",
      " #   Column     Non-Null Count  Dtype \n",
      "---  ------     --------------  ----- \n",
      " 0   Cluster    1099 non-null   uint16\n",
      " 1   type       1099 non-null   object\n",
      " 2   sentiment  1099 non-null   object\n",
      " 3   emotion    1099 non-null   object\n",
      "dtypes: object(3), uint16(1)\n",
      "memory usage: 28.0+ KB\n"
     ]
    },
    {
     "data": {
      "text/html": [
       "<div>\n",
       "<style scoped>\n",
       "    .dataframe tbody tr th:only-of-type {\n",
       "        vertical-align: middle;\n",
       "    }\n",
       "\n",
       "    .dataframe tbody tr th {\n",
       "        vertical-align: top;\n",
       "    }\n",
       "\n",
       "    .dataframe thead th {\n",
       "        text-align: right;\n",
       "    }\n",
       "</style>\n",
       "<table border=\"1\" class=\"dataframe\">\n",
       "  <thead>\n",
       "    <tr style=\"text-align: right;\">\n",
       "      <th></th>\n",
       "      <th>Cluster</th>\n",
       "      <th>type</th>\n",
       "      <th>sentiment</th>\n",
       "      <th>emotion</th>\n",
       "    </tr>\n",
       "  </thead>\n",
       "  <tbody>\n",
       "    <tr>\n",
       "      <th>0</th>\n",
       "      <td>0</td>\n",
       "      <td>statement</td>\n",
       "      <td>neutral</td>\n",
       "      <td>hard to read</td>\n",
       "    </tr>\n",
       "    <tr>\n",
       "      <th>1</th>\n",
       "      <td>2</td>\n",
       "      <td>Unknown</td>\n",
       "      <td>neutral</td>\n",
       "      <td>hard to read</td>\n",
       "    </tr>\n",
       "    <tr>\n",
       "      <th>2</th>\n",
       "      <td>1</td>\n",
       "      <td>sentence</td>\n",
       "      <td>neutral</td>\n",
       "      <td>hard to read</td>\n",
       "    </tr>\n",
       "    <tr>\n",
       "      <th>3</th>\n",
       "      <td>1</td>\n",
       "      <td>sentence</td>\n",
       "      <td>neutral</td>\n",
       "      <td>hard to read</td>\n",
       "    </tr>\n",
       "    <tr>\n",
       "      <th>4</th>\n",
       "      <td>2</td>\n",
       "      <td>Unknown</td>\n",
       "      <td>neutral</td>\n",
       "      <td>hard to read</td>\n",
       "    </tr>\n",
       "    <tr>\n",
       "      <th>...</th>\n",
       "      <td>...</td>\n",
       "      <td>...</td>\n",
       "      <td>...</td>\n",
       "      <td>...</td>\n",
       "    </tr>\n",
       "    <tr>\n",
       "      <th>1094</th>\n",
       "      <td>0</td>\n",
       "      <td>statement</td>\n",
       "      <td>positive</td>\n",
       "      <td>hard to read</td>\n",
       "    </tr>\n",
       "    <tr>\n",
       "      <th>1095</th>\n",
       "      <td>2</td>\n",
       "      <td>Unknown</td>\n",
       "      <td>neutral</td>\n",
       "      <td>hard to read</td>\n",
       "    </tr>\n",
       "    <tr>\n",
       "      <th>1096</th>\n",
       "      <td>1</td>\n",
       "      <td>sentence</td>\n",
       "      <td>neutral</td>\n",
       "      <td>hard to read</td>\n",
       "    </tr>\n",
       "    <tr>\n",
       "      <th>1097</th>\n",
       "      <td>1</td>\n",
       "      <td>sentence</td>\n",
       "      <td>neutral</td>\n",
       "      <td>hard to read</td>\n",
       "    </tr>\n",
       "    <tr>\n",
       "      <th>1098</th>\n",
       "      <td>2</td>\n",
       "      <td>Unknown</td>\n",
       "      <td>neutral</td>\n",
       "      <td>hard to read</td>\n",
       "    </tr>\n",
       "  </tbody>\n",
       "</table>\n",
       "<p>1099 rows × 4 columns</p>\n",
       "</div>"
      ],
      "text/plain": [
       "      Cluster       type sentiment       emotion\n",
       "0           0  statement   neutral  hard to read\n",
       "1           2    Unknown   neutral  hard to read\n",
       "2           1   sentence   neutral  hard to read\n",
       "3           1   sentence   neutral  hard to read\n",
       "4           2    Unknown   neutral  hard to read\n",
       "...       ...        ...       ...           ...\n",
       "1094        0  statement  positive  hard to read\n",
       "1095        2    Unknown   neutral  hard to read\n",
       "1096        1   sentence   neutral  hard to read\n",
       "1097        1   sentence   neutral  hard to read\n",
       "1098        2    Unknown   neutral  hard to read\n",
       "\n",
       "[1099 rows x 4 columns]"
      ]
     },
     "execution_count": 11,
     "metadata": {},
     "output_type": "execute_result"
    }
   ],
   "source": [
    "# insert cluster information into the DataFrame\n",
    "df.insert(0, \"Cluster\", clusters, True)\n",
    "df.info()\n",
    "df"
   ]
  },
  {
   "cell_type": "code",
   "execution_count": 12,
   "id": "3387a10b",
   "metadata": {},
   "outputs": [
    {
     "data": {
      "text/html": [
       "<div>\n",
       "<style scoped>\n",
       "    .dataframe tbody tr th:only-of-type {\n",
       "        vertical-align: middle;\n",
       "    }\n",
       "\n",
       "    .dataframe tbody tr th {\n",
       "        vertical-align: top;\n",
       "    }\n",
       "\n",
       "    .dataframe thead th {\n",
       "        text-align: right;\n",
       "    }\n",
       "</style>\n",
       "<table border=\"1\" class=\"dataframe\">\n",
       "  <thead>\n",
       "    <tr style=\"text-align: right;\">\n",
       "      <th></th>\n",
       "      <th>type</th>\n",
       "      <th>sentiment</th>\n",
       "      <th>emotion</th>\n",
       "    </tr>\n",
       "  </thead>\n",
       "  <tbody>\n",
       "    <tr>\n",
       "      <th>First Cluster</th>\n",
       "      <td>statement</td>\n",
       "      <td>neutral</td>\n",
       "      <td>hard to read</td>\n",
       "    </tr>\n",
       "    <tr>\n",
       "      <th>Second Cluster</th>\n",
       "      <td>sentence</td>\n",
       "      <td>neutral</td>\n",
       "      <td>hard to read</td>\n",
       "    </tr>\n",
       "    <tr>\n",
       "      <th>Third Cluster</th>\n",
       "      <td>Unknown</td>\n",
       "      <td>neutral</td>\n",
       "      <td>hard to read</td>\n",
       "    </tr>\n",
       "  </tbody>\n",
       "</table>\n",
       "</div>"
      ],
      "text/plain": [
       "                     type sentiment       emotion\n",
       "First Cluster   statement   neutral  hard to read\n",
       "Second Cluster   sentence   neutral  hard to read\n",
       "Third Cluster     Unknown   neutral  hard to read"
      ]
     },
     "execution_count": 12,
     "metadata": {},
     "output_type": "execute_result"
    }
   ],
   "source": [
    "list_col = ['Cluster']\n",
    "cols = [col for col in df if col not in list_col]\n",
    "index = ['First Cluster', 'Second Cluster', 'Third Cluster']\n",
    "df_mod = pd.DataFrame(kmode.cluster_centroids_, columns=cols, index=index)\n",
    "df_mod"
   ]
  },
  {
   "cell_type": "code",
   "execution_count": null,
   "id": "e6602934",
   "metadata": {},
   "outputs": [],
   "source": []
  }
 ],
 "metadata": {
  "kernelspec": {
   "display_name": "conda_python3",
   "language": "python",
   "name": "conda_python3"
  },
  "language_info": {
   "codemirror_mode": {
    "name": "ipython",
    "version": 3
   },
   "file_extension": ".py",
   "mimetype": "text/x-python",
   "name": "python",
   "nbconvert_exporter": "python",
   "pygments_lexer": "ipython3",
   "version": "3.6.13"
  }
 },
 "nbformat": 4,
 "nbformat_minor": 5
}
