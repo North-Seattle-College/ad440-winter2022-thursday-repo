{
 "cells": [
  {
   "cell_type": "code",
   "execution_count": null,
   "metadata": {},
   "outputs": [],
   "source": [
    "import sys\n",
    "from os import path\n",
    "from os.path import exists\n",
    "import string\n",
    "from collections import Counter\n",
    "from tokenize import maybe\n",
    "import nltk\n",
    "import matplotlib.pyplot as plt\n",
    "from textblob import TextBlob\n",
    "from pathlib import Path\n",
    "from textblob.sentiments import NaiveBayesAnalyzer\n",
    "import nltk.corpus\n",
    "from nltk.tokenize import word_tokenize\n",
    "from nltk.probability import FreqDist\n",
    "from nltk.corpus import stopwords\n",
    "from nltk.sentiment.vader import SentimentIntensityAnalyzer\n",
    "import nltk.corpus\n",
    "from nltk.tokenize import RegexpTokenizer\n",
    "from nltk.tokenize import word_tokenize\n",
    "from nltk.data import load\n",
    "fdist = FreqDist()\n",
    "\n",
    "# downloading required packages\n",
    "nltk.download('nps_chat')\n",
    "nltk.download('punkt')\n",
    "nltk.download('brown')\n",
    "nltk.download('movie_reviews')\n",
    "nltk.download('stopwords')\n",
    "nltk.download('vader_lexicon')\n",
    "nltk.download('tagsets')\n",
    "nltk.download('averaged_perceptron_tagger')\n",
    "\n",
    "import spacy\n",
    "!python -m spacy download en_core_web_sm"
   ]
  },
  {
   "cell_type": "code",
   "execution_count": 60,
   "metadata": {},
   "outputs": [
    {
     "name": "stdout",
     "output_type": "stream",
     "text": [
      "where\n",
      "where I can buy some weed\n",
      "This is a question\n",
      "I\n",
      "I know where I can buy weed\n",
      "This is not a question\n",
      "?\n",
      "??\n",
      "This is a question\n"
     ]
    }
   ],
   "source": [
    "if __name__ == \"__main__\":\n",
    "    # args = sys.argv\n",
    "    checkQuestion('where I can buy some weed')\n",
    "    checkQuestion('I know where I can buy weed')\n",
    "    checkQuestion('??')\n",
    "\n",
    "    def checkQuestion(question):\n",
    "    \n",
    "        isQuestion = False\n",
    "        \n",
    "        nlp = spacy.load('en_core_web_sm')\n",
    "        \n",
    "    \n",
    "        tokens = nlp(question)\n",
    "        tokenlist = ''\n",
    "        firstword = tokens[0].text\n",
    "        print(firstword)\n",
    "        tokens = nlp.pipe(question)\n",
    "        for s in tokens:\n",
    "            tokenlist += s.text\n",
    "        print (tokenlist)\n",
    "        \n",
    "        \n",
    "        \n",
    "\n",
    "        if '?' in tokenlist:\n",
    "            isQuestion = True\n",
    "    \n",
    "        \n",
    "\n",
    "        wh_question = ['what', 'when', 'where', 'who',\n",
    "                    'whom', 'which', 'whose', 'why', 'how']\n",
    "        yN_question = [\"am\", \"is\", \"are\", \"do\", \"does\", \"did\", \"have\", \"has\", \"was\", \"were\", \"can\", \"cannot\", \"could\",\n",
    "                    \"couldn't\", \"dare\", \"may\", \"might\", \"must\", \"need\", \"ought\", \"shall\", \"should\", \"shouldn't\", \"will\", \"would\"]\n",
    "\n",
    "    \n",
    "        if firstword in wh_question or firstword in yN_question:\n",
    "            isQuestion = True\n",
    "\n",
    "        if (isQuestion == True):\n",
    "            print(\"This is a question\")\n",
    "            return True\n",
    "        else:\n",
    "            print(\"This is not a question\")\n",
    "            return False\n",
    "\n",
    "\n"
   ]
  },
  {
   "cell_type": "code",
   "execution_count": null,
   "metadata": {},
   "outputs": [],
   "source": []
  }
 ],
 "metadata": {
  "interpreter": {
   "hash": "2be5faf79681da6f2a61fdfdd5405d65d042280f7fba6178067603e3a2925119"
  },
  "kernelspec": {
   "display_name": "Python 3.10.0 64-bit",
   "language": "python",
   "name": "python3"
  },
  "language_info": {
   "codemirror_mode": {
    "name": "ipython",
    "version": 3
   },
   "file_extension": ".py",
   "mimetype": "text/x-python",
   "name": "python",
   "nbconvert_exporter": "python",
   "pygments_lexer": "ipython3",
   "version": "3.10.0"
  },
  "orig_nbformat": 4
 },
 "nbformat": 4,
 "nbformat_minor": 2
}
