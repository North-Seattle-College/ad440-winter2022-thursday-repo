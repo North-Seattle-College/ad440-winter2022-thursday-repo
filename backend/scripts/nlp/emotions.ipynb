{
 "cells": [
  {
   "cell_type": "code",
   "execution_count": 29,
   "id": "e277dff0",
   "metadata": {},
   "outputs": [],
   "source": [
    "import sys\n",
    "from os import path\n",
    "from os.path import exists\n",
    "import string\n",
    "from collections import Counter\n",
    "from tokenize import maybe\n",
    "import nltk\n",
    "import matplotlib.pyplot as plt\n",
    "from pathlib import Path\n",
    "import nltk.corpus\n",
    "from nltk.tokenize import word_tokenize\n",
    "from nltk.probability import FreqDist\n",
    "from nltk.corpus import stopwords\n",
    "import time\n",
    "from nltk.tokenize import RegexpTokenizer\n",
    "from nltk.tokenize import word_tokenize\n",
    "from nltk.data import load\n",
    "import sagemaker\n",
    "import boto3\n",
    "import pandas as pd\n",
    "import json"
   ]
  },
  {
   "cell_type": "code",
   "execution_count": null,
   "id": "492c3648",
   "metadata": {},
   "outputs": [],
   "source": []
  },
  {
   "cell_type": "code",
   "execution_count": 2,
   "id": "c957a99f",
   "metadata": {},
   "outputs": [
    {
     "name": "stderr",
     "output_type": "stream",
     "text": [
      "[nltk_data] Downloading package punkt to /home/ec2-user/nltk_data...\n",
      "[nltk_data]   Package punkt is already up-to-date!\n",
      "[nltk_data] Downloading package stopwords to\n",
      "[nltk_data]     /home/ec2-user/nltk_data...\n",
      "[nltk_data]   Package stopwords is already up-to-date!\n"
     ]
    },
    {
     "data": {
      "text/plain": [
       "True"
      ]
     },
     "execution_count": 2,
     "metadata": {},
     "output_type": "execute_result"
    }
   ],
   "source": [
    "import nltk\n",
    "nltk.download('punkt')\n",
    "nltk.download('stopwords')"
   ]
  },
  {
   "cell_type": "code",
   "execution_count": 3,
   "id": "b898187c",
   "metadata": {},
   "outputs": [
    {
     "name": "stdout",
     "output_type": "stream",
     "text": [
      "[{'Text': 'Eleborate and Write conclusion   3marks', 'uid': 'T'}]\n"
     ]
    }
   ],
   "source": [
    "role = sagemaker.get_execution_role()\n",
    "\n",
    "s3 = boto3.resource('s3')\n",
    "\n",
    "bucket_name = 'ad440-mpg-floop-export-storage'\n",
    "\n",
    "obj = s3.Object('ad440-mpg-floop-export-storage',\n",
    "                    'auto-floop-s3-export3-sagemaker.json')\n",
    "\n",
    "s3_client = boto3.client(\"s3\")\n",
    "\n",
    "\n",
    "# Loads body of json from the s3 object\n",
    "dataset = s3_client.get_object(Bucket = 'ad440-mpg-floop-export-storage', Key = 'auto-floop-s3-export3-sagemaker.json')['Body'].read()\n",
    "data = pd.read_json(dataset)\n",
    "\n",
    "# Loads body of json from the s3 object\n",
    "data = json.load(obj.get()['Body'])\n",
    "print(data[0])"
   ]
  },
  {
   "cell_type": "code",
   "execution_count": 4,
   "id": "70ef6280",
   "metadata": {},
   "outputs": [],
   "source": [
    "global finalList\n",
    "finalList=[]"
   ]
  },
  {
   "cell_type": "code",
   "execution_count": 8,
   "id": "59b4cfab",
   "metadata": {},
   "outputs": [],
   "source": [
    "dataList=[]\n",
    "for x in range(10):\n",
    "    dataList.append(data[x])"
   ]
  },
  {
   "cell_type": "code",
   "execution_count": 9,
   "id": "db9886ee",
   "metadata": {},
   "outputs": [
    {
     "name": "stdout",
     "output_type": "stream",
     "text": [
      "[[{'Text': 'Eleborate and Write conclusion   3marks', 'uid': 'T'}], [{'Text': 'If the temperature in a pond is lower, then the dissolved oxygen will be higher because gas escapes more readily in liquids at high temperature due to increased movement of kinetic energy (= increased movement of molecules)', 'uid': 'T'}], [{'Text': 'Maybe there is a need to be clear about why they need large sums = e.g. think about the cost of the state of the art machinery that {{NAME}} uses in his factories.', 'uid': 'T'}], [{'Text': 'More details.  A lot happened.', 'uid': 'T'}, {'Text': 'iu98fgxv bm,÷\\n\"', 'uid': 'S'}], [{'Text': 's-v', 'uid': 'T'}], [{'Text': 'pronoun problem', 'uid': 'T'}], [{'Text': '{{NAME}}, your handwriting is hard to read...please try printing...', 'uid': 'T'}], [{'Text': 'What is this word?', 'uid': 'T'}, {'Text': 'Procedure', 'uid': 'S'}], [{'Text': '{{ORGANIZATION}}', 'uid': 'T'}], [{'Text': 'Nice paragraph!', 'uid': 'T'}]]\n"
     ]
    }
   ],
   "source": [
    "print(dataList)"
   ]
  },
  {
   "cell_type": "code",
   "execution_count": 19,
   "id": "ae827071",
   "metadata": {},
   "outputs": [
    {
     "name": "stdout",
     "output_type": "stream",
     "text": [
      "['Eleborate and Write conclusion   3marks', 'If the temperature in a pond is lower, then the dissolved oxygen will be higher because gas escapes more readily in liquids at high temperature due to increased movement of kinetic energy (= increased movement of molecules)', 'Maybe there is a need to be clear about why they need large sums = e.g. think about the cost of the state of the art machinery that {{NAME}} uses in his factories.', 'More details.  A lot happened.', 'iu98fgxv bm,÷\\n\"', 's-v', 'pronoun problem', '{{NAME}}, your handwriting is hard to read...please try printing...', 'What is this word?', 'Procedure', '{{ORGANIZATION}}', 'Nice paragraph!']\n"
     ]
    }
   ],
   "source": [
    "sentence=[]\n",
    "for x in dataList:\n",
    "    for y in x:       \n",
    "        sentence.append(y['Text'])\n",
    "print(sentence)"
   ]
  },
  {
   "cell_type": "code",
   "execution_count": null,
   "id": "bf050e09",
   "metadata": {},
   "outputs": [],
   "source": []
  },
  {
   "cell_type": "code",
   "execution_count": 35,
   "id": "0da1d069",
   "metadata": {},
   "outputs": [],
   "source": [
    "def emotion_analysis(post):\n",
    "    post = post.lower()\n",
    "\n",
    "    cleanedText = post.translate(str.maketrans('', '', string.punctuation))\n",
    "\n",
    "    tokenizedList = word_tokenize(cleanedText, \"english\")\n",
    "    # creating a list of words in the feedback excluding all the stop words\n",
    "    finalList = [\n",
    "        item for item in tokenizedList if item not in stopwords.words('english')]\n",
    "    \n",
    "    # creating a list of emotion words and the words that have emotion according to our pre defined list\n",
    "    emotionList = []\n",
    "    \n",
    "    # open emotions.txt, clean the text lines, and comparegenerated finalList words with emotion words\n",
    "    with open('emotions.txt', 'r') as file:\n",
    "        for line in file:\n",
    "            clearLine = line.replace('\\n', '').replace(\n",
    "                ',', '').replace(\"'\", '').replace(' ', '').strip()\n",
    "            word, emotion = clearLine.split(':')\n",
    "\n",
    "            if word in finalList:\n",
    "                emotionList.append(emotion)\n",
    "                \n",
    "            # returns a determined emotion from the emotionList or returns a default message\n",
    "        return emotionList[0] if len(emotionList) != 0 else 'can\\'t determine emotion'"
   ]
  },
  {
   "cell_type": "code",
   "execution_count": null,
   "id": "aa5af368",
   "metadata": {},
   "outputs": [],
   "source": []
  },
  {
   "cell_type": "code",
   "execution_count": 36,
   "id": "0ecaf655",
   "metadata": {},
   "outputs": [
    {
     "name": "stdout",
     "output_type": "stream",
     "text": [
      "sad\n"
     ]
    }
   ],
   "source": [
    "post = \"bad job\"\n",
    "\n",
    "res = emotion_analysis(post)\n",
    "print(res)"
   ]
  },
  {
   "cell_type": "code",
   "execution_count": 39,
   "id": "eedffd01",
   "metadata": {},
   "outputs": [
    {
     "data": {
      "text/plain": [
       "'happy'"
      ]
     },
     "execution_count": 39,
     "metadata": {},
     "output_type": "execute_result"
    }
   ],
   "source": [
    "emotion_analysis(str(sentence))"
   ]
  },
  {
   "cell_type": "code",
   "execution_count": null,
   "id": "b2828ec9",
   "metadata": {},
   "outputs": [],
   "source": []
  },
  {
   "cell_type": "code",
   "execution_count": null,
   "id": "55980288",
   "metadata": {},
   "outputs": [],
   "source": []
  },
  {
   "cell_type": "code",
   "execution_count": null,
   "id": "f9fef8aa",
   "metadata": {},
   "outputs": [],
   "source": []
  }
 ],
 "metadata": {
  "kernelspec": {
   "display_name": "conda_python3",
   "language": "python",
   "name": "conda_python3"
  },
  "language_info": {
   "codemirror_mode": {
    "name": "ipython",
    "version": 3
   },
   "file_extension": ".py",
   "mimetype": "text/x-python",
   "name": "python",
   "nbconvert_exporter": "python",
   "pygments_lexer": "ipython3",
   "version": "3.6.13"
  }
 },
 "nbformat": 4,
 "nbformat_minor": 5
}
