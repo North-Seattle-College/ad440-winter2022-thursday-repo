{
 "cells": [
  {
   "cell_type": "code",
   "execution_count": null,
   "metadata": {},
   "outputs": [],
   "source": [
    "import sys\n",
    "from os import path\n",
    "from os.path import exists\n",
    "import text2emotion as te\n",
    "import pandas as pd\n",
    "import json\n",
    "from collections import Counter\n",
    "import matplotlib.pyplot as plt\n",
    "import sagemaker\n",
    "import boto3"
   ]
  },
  {
   "cell_type": "code",
   "execution_count": null,
   "metadata": {},
   "outputs": [],
   "source": [
    "role = sagemaker.get_execution_role()\n",
    "\n",
    "s3 = boto3.resource('s3')\n",
    "\n",
    "bucket_name = 'ad440-mpg-floop-export-storage'\n",
    "\n",
    "obj = s3.Object(bucket_name, 'auto-floop-s3-export3-sagemaker.json')\n",
    "\n",
    "s3_client = boto3.client('s3')\n",
    "\n",
    "data = json.load(obj.get()['Body'])\n",
    "print(data[0])"
   ]
  },
  {
   "cell_type": "code",
   "execution_count": null,
   "metadata": {},
   "outputs": [],
   "source": [
    "# Get few lines from file for sample\n",
    "dataList=[]\n",
    "for i in range(10):\n",
    "    dataList.append(data[i])"
   ]
  },
  {
   "cell_type": "code",
   "execution_count": null,
   "metadata": {},
   "outputs": [],
   "source": [
    "# Create array of the sample sentences to analyze\n",
    "sentences=[]\n",
    "\n",
    "# switch dataList to data for get all data\n",
    "for x in dataList:\n",
    "    for y in x:       \n",
    "        sentences.append(y['Text'])\n",
    "print(sentences)"
   ]
  },
  {
   "cell_type": "code",
   "execution_count": null,
   "metadata": {},
   "outputs": [],
   "source": [
    "def isEmotion(sentence):\n",
    "    emotions = te.get_emotion(sentence)\n",
    "    max_val = max(emotions.values())\n",
    "    if max_val == 0:\n",
    "        return 'can\\'t determine emotion'\n",
    "    else:\n",
    "        # return highest value emotion\n",
    "        emotion = max(emotions, key=lambda key: emotions[key])\n",
    "        return emotion"
   ]
  },
  {
   "cell_type": "code",
   "execution_count": null,
   "metadata": {},
   "outputs": [],
   "source": [
    "# Determine emotion for each sentence\n",
    "emotionList=[]\n",
    "for i in sentences:\n",
    "    emotionList.append(isEmotion(i))\n",
    "    \n",
    "countEmotions = Counter(emotionList)"
   ]
  },
  {
   "cell_type": "code",
   "execution_count": null,
   "metadata": {},
   "outputs": [],
   "source": [
    "# Data frame for original sentence and emotion analyzed\n",
    "df = pd.DataFrame(list(zip(sentences, emotionList)),columns=['Sentence', 'Emotion'])\n",
    "df"
   ]
  },
  {
   "cell_type": "code",
   "execution_count": null,
   "metadata": {},
   "outputs": [],
   "source": [
    "df.to_csv('sentenceEmotion.csv')"
   ]
  },
  {
   "cell_type": "code",
   "execution_count": null,
   "metadata": {},
   "outputs": [],
   "source": [
    "fig, axl = plt.subplots()\n",
    "axl.bar(countEmotions.keys(), countEmotions.values())\n",
    "fig.autofmt_xdate()\n",
    "plt.show()"
   ]
  }
 ],
 "metadata": {
  "language_info": {
   "name": "python"
  },
  "orig_nbformat": 4
 },
 "nbformat": 4,
 "nbformat_minor": 2
}
